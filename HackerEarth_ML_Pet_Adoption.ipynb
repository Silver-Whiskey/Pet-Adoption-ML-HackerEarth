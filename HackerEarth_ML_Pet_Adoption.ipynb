{
  "nbformat": 4,
  "nbformat_minor": 0,
  "metadata": {
    "colab": {
      "name": "HackerEarth_ML_Pet_Adoption.ipynb",
      "provenance": []
    },
    "kernelspec": {
      "name": "python3",
      "display_name": "Python 3"
    }
  },
  "cells": [
    {
      "cell_type": "markdown",
      "metadata": {
        "id": "Pa5_FM4QUp2x"
      },
      "source": [
        "**NOTE: This is not the exact solution - individual cells have been used in random order** *italicized text*"
      ]
    },
    {
      "cell_type": "markdown",
      "metadata": {
        "id": "oWzRODJ2WECW"
      },
      "source": [
        "## Setup + dataset imports"
      ]
    },
    {
      "cell_type": "code",
      "metadata": {
        "id": "ybAfGd349zTs"
      },
      "source": [
        "import numpy as np\n",
        "import pandas as pd\n",
        "import matplotlib.pyplot as plt"
      ],
      "execution_count": null,
      "outputs": []
    },
    {
      "cell_type": "code",
      "metadata": {
        "id": "_bywskLN-R54"
      },
      "source": [
        "train_df = pd.read_csv('/content/drive/My Drive/HackerEarth Machine Learning Pet Adoption/Dataset/train.csv',parse_dates=True)\n",
        "test_df = pd.read_csv('/content/drive/My Drive/HackerEarth Machine Learning Pet Adoption/Dataset/test.csv',parse_dates=True)"
      ],
      "execution_count": null,
      "outputs": []
    },
    {
      "cell_type": "markdown",
      "metadata": {
        "id": "nDche7pTVGCf"
      },
      "source": [
        "## Data Preprocessing"
      ]
    },
    {
      "cell_type": "code",
      "metadata": {
        "id": "WODQE9NZA0fa"
      },
      "source": [
        "train_df['pet_id'] = train_df['pet_id'].apply(lambda x: x.strip('ANSL_')).astype('int')\n",
        "test_df['pet_id'] = test_df['pet_id'].apply(lambda x: x.strip('ANSL_')).astype('int')"
      ],
      "execution_count": null,
      "outputs": []
    },
    {
      "cell_type": "code",
      "metadata": {
        "id": "IPq4JApSf2-v"
      },
      "source": [
        "train_df['issue_date'] = train_df['issue_date'].apply(lambda x: x.strip(' 00:00:00\t'))\n",
        "test_df['issue_date'] = test_df['issue_date'].apply(lambda x: x.strip(' 00:00:00\t'))"
      ],
      "execution_count": null,
      "outputs": []
    },
    {
      "cell_type": "code",
      "metadata": {
        "id": "B3JMjrO4zyTQ"
      },
      "source": [
        "train_df['issue_date'] = pd.to_datetime(train_df['issue_date'])\n",
        "test_df['issue_date'] = pd.to_datetime(test_df['issue_date'])"
      ],
      "execution_count": null,
      "outputs": []
    },
    {
      "cell_type": "code",
      "metadata": {
        "id": "plxGy5pMfigX",
        "colab": {
          "base_uri": "https://localhost:8080/",
          "height": 204
        },
        "outputId": "63a56b8e-feba-48b1-d9ac-1c54222cbe3b"
      },
      "source": [
        "train_df.head()"
      ],
      "execution_count": null,
      "outputs": [
        {
          "output_type": "execute_result",
          "data": {
            "text/html": [
              "<div>\n",
              "<style scoped>\n",
              "    .dataframe tbody tr th:only-of-type {\n",
              "        vertical-align: middle;\n",
              "    }\n",
              "\n",
              "    .dataframe tbody tr th {\n",
              "        vertical-align: top;\n",
              "    }\n",
              "\n",
              "    .dataframe thead th {\n",
              "        text-align: right;\n",
              "    }\n",
              "</style>\n",
              "<table border=\"1\" class=\"dataframe\">\n",
              "  <thead>\n",
              "    <tr style=\"text-align: right;\">\n",
              "      <th></th>\n",
              "      <th>pet_id</th>\n",
              "      <th>issue_date</th>\n",
              "      <th>listing_date</th>\n",
              "      <th>condition</th>\n",
              "      <th>color_type</th>\n",
              "      <th>length(m)</th>\n",
              "      <th>height(cm)</th>\n",
              "      <th>X1</th>\n",
              "      <th>X2</th>\n",
              "      <th>breed_category</th>\n",
              "      <th>pet_category</th>\n",
              "    </tr>\n",
              "  </thead>\n",
              "  <tbody>\n",
              "    <tr>\n",
              "      <th>0</th>\n",
              "      <td>69903</td>\n",
              "      <td>2016-07-10</td>\n",
              "      <td>2016-09-21 16:25:00</td>\n",
              "      <td>2.0</td>\n",
              "      <td>Brown Tabby</td>\n",
              "      <td>0.80</td>\n",
              "      <td>7.78</td>\n",
              "      <td>13</td>\n",
              "      <td>9</td>\n",
              "      <td>0.0</td>\n",
              "      <td>1</td>\n",
              "    </tr>\n",
              "    <tr>\n",
              "      <th>1</th>\n",
              "      <td>66892</td>\n",
              "      <td>2013-11-21</td>\n",
              "      <td>2018-12-27 17:47:00</td>\n",
              "      <td>1.0</td>\n",
              "      <td>White</td>\n",
              "      <td>0.72</td>\n",
              "      <td>14.19</td>\n",
              "      <td>13</td>\n",
              "      <td>9</td>\n",
              "      <td>0.0</td>\n",
              "      <td>2</td>\n",
              "    </tr>\n",
              "    <tr>\n",
              "      <th>2</th>\n",
              "      <td>69750</td>\n",
              "      <td>2014-09-28</td>\n",
              "      <td>2016-10-19 08:24:00</td>\n",
              "      <td>NaN</td>\n",
              "      <td>Brown</td>\n",
              "      <td>0.15</td>\n",
              "      <td>40.90</td>\n",
              "      <td>15</td>\n",
              "      <td>4</td>\n",
              "      <td>2.0</td>\n",
              "      <td>4</td>\n",
              "    </tr>\n",
              "    <tr>\n",
              "      <th>3</th>\n",
              "      <td>71623</td>\n",
              "      <td>2016-12-31</td>\n",
              "      <td>2019-01-25 18:30:00</td>\n",
              "      <td>1.0</td>\n",
              "      <td>White</td>\n",
              "      <td>0.62</td>\n",
              "      <td>17.82</td>\n",
              "      <td>0</td>\n",
              "      <td>1</td>\n",
              "      <td>0.0</td>\n",
              "      <td>2</td>\n",
              "    </tr>\n",
              "    <tr>\n",
              "      <th>4</th>\n",
              "      <td>57969</td>\n",
              "      <td>2017-09-28</td>\n",
              "      <td>2017-11-19 09:38:00</td>\n",
              "      <td>2.0</td>\n",
              "      <td>Black</td>\n",
              "      <td>0.50</td>\n",
              "      <td>11.06</td>\n",
              "      <td>18</td>\n",
              "      <td>4</td>\n",
              "      <td>0.0</td>\n",
              "      <td>1</td>\n",
              "    </tr>\n",
              "  </tbody>\n",
              "</table>\n",
              "</div>"
            ],
            "text/plain": [
              "   pet_id issue_date         listing_date  ...  X2 breed_category  pet_category\n",
              "0   69903 2016-07-10  2016-09-21 16:25:00  ...   9            0.0             1\n",
              "1   66892 2013-11-21  2018-12-27 17:47:00  ...   9            0.0             2\n",
              "2   69750 2014-09-28  2016-10-19 08:24:00  ...   4            2.0             4\n",
              "3   71623 2016-12-31  2019-01-25 18:30:00  ...   1            0.0             2\n",
              "4   57969 2017-09-28  2017-11-19 09:38:00  ...   4            0.0             1\n",
              "\n",
              "[5 rows x 11 columns]"
            ]
          },
          "metadata": {
            "tags": []
          },
          "execution_count": 5
        }
      ]
    },
    {
      "cell_type": "code",
      "metadata": {
        "id": "hnHOGgRufLvf",
        "colab": {
          "base_uri": "https://localhost:8080/",
          "height": 323
        },
        "outputId": "596f8ba5-62ea-474a-9dda-637d7c4f0d8d"
      },
      "source": [
        "train_df.info()"
      ],
      "execution_count": null,
      "outputs": [
        {
          "output_type": "stream",
          "text": [
            "<class 'pandas.core.frame.DataFrame'>\n",
            "RangeIndex: 18834 entries, 0 to 18833\n",
            "Data columns (total 11 columns):\n",
            " #   Column          Non-Null Count  Dtype         \n",
            "---  ------          --------------  -----         \n",
            " 0   pet_id          18834 non-null  int64         \n",
            " 1   issue_date      18834 non-null  datetime64[ns]\n",
            " 2   listing_date    18834 non-null  object        \n",
            " 3   condition       17357 non-null  float64       \n",
            " 4   color_type      18834 non-null  object        \n",
            " 5   length(m)       18834 non-null  float64       \n",
            " 6   height(cm)      18834 non-null  float64       \n",
            " 7   X1              18834 non-null  int64         \n",
            " 8   X2              18834 non-null  int64         \n",
            " 9   breed_category  18834 non-null  float64       \n",
            " 10  pet_category    18834 non-null  int64         \n",
            "dtypes: datetime64[ns](1), float64(4), int64(4), object(2)\n",
            "memory usage: 1.6+ MB\n"
          ],
          "name": "stdout"
        }
      ]
    },
    {
      "cell_type": "code",
      "metadata": {
        "id": "6jGUGctT5TMn"
      },
      "source": [
        "train_df['listing_date'] = pd.to_datetime(train_df['listing_date'],utc=True)\n",
        "test_df['listing_date'] = pd.to_datetime(test_df['listing_date'],utc=True)"
      ],
      "execution_count": null,
      "outputs": []
    },
    {
      "cell_type": "code",
      "metadata": {
        "id": "2UtC3Q96AUbQ"
      },
      "source": [
        "train_df['breed_category'] = train_df['breed_category'].astype('int')\n",
        "#test_df['breed_category'] = test_df['breed_category'].astype('int')"
      ],
      "execution_count": null,
      "outputs": []
    },
    {
      "cell_type": "code",
      "metadata": {
        "id": "InjdSY9JVhHC"
      },
      "source": [
        "test_df['issue_date']= pd.to_datetime(test_df['issue_date']).astype(int)\n",
        "train_df['issue_date'] = pd.to_datetime(train_df['issue_date']).astype(int)"
      ],
      "execution_count": null,
      "outputs": []
    },
    {
      "cell_type": "code",
      "metadata": {
        "id": "kHUODIGoVj8m"
      },
      "source": [
        "test_df['listing_date']= pd.to_datetime(test_df['listing_date']).astype(int)\n",
        "train_df['listing_date'] = pd.to_datetime(train_df['listing_date']).astype(int)"
      ],
      "execution_count": null,
      "outputs": []
    },
    {
      "cell_type": "code",
      "metadata": {
        "id": "h5-hpUQ8_ijF",
        "colab": {
          "base_uri": "https://localhost:8080/",
          "height": 105
        },
        "outputId": "db65222a-b256-4816-dbf3-8285c43e87fb"
      },
      "source": [
        "from sklearn.preprocessing import LabelEncoder\n",
        "\n",
        "encoder = LabelEncoder()\n",
        "train_df['color_type'] = pd.DataFrame(encoder.fit_transform(pd.DataFrame(train_df['color_type'])))\n",
        "test_df['color_type'] = pd.DataFrame(encoder.transform(pd.DataFrame(test_df['color_type'])))"
      ],
      "execution_count": null,
      "outputs": [
        {
          "output_type": "stream",
          "text": [
            "/usr/local/lib/python3.6/dist-packages/sklearn/preprocessing/_label.py:251: DataConversionWarning: A column-vector y was passed when a 1d array was expected. Please change the shape of y to (n_samples, ), for example using ravel().\n",
            "  y = column_or_1d(y, warn=True)\n",
            "/usr/local/lib/python3.6/dist-packages/sklearn/preprocessing/_label.py:268: DataConversionWarning: A column-vector y was passed when a 1d array was expected. Please change the shape of y to (n_samples, ), for example using ravel().\n",
            "  y = column_or_1d(y, warn=True)\n"
          ],
          "name": "stderr"
        }
      ]
    },
    {
      "cell_type": "code",
      "metadata": {
        "id": "XxqfMkMKTtjo"
      },
      "source": [
        "from sklearn.impute import SimpleImputer\n",
        "imputer = SimpleImputer(strategy='most_frequent')\n",
        "imputed_train_df = train_df\n",
        "imputed_test_df = test_df\n",
        "imputed_train_df['condition'] = pd.DataFrame(imputer.fit_transform(pd.DataFrame(imputed_train_df['condition'])))\n",
        "imputed_test_df['condition'] = pd.DataFrame(imputer.transform(pd.DataFrame(test_df['condition'])))"
      ],
      "execution_count": null,
      "outputs": []
    },
    {
      "cell_type": "code",
      "metadata": {
        "id": "QFW04a0X_ejC"
      },
      "source": [
        "imputed_train_df['condition'] = imputed_train_df['condition'].astype('int')\n",
        "imputed_test_df['condition'] = imputed_test_df['condition'].astype('int')"
      ],
      "execution_count": null,
      "outputs": []
    },
    {
      "cell_type": "markdown",
      "metadata": {
        "id": "8_gj0SuuVtVh"
      },
      "source": [
        "# Data Copies for Feature Engineering"
      ]
    },
    {
      "cell_type": "code",
      "metadata": {
        "id": "i3ZuRfXEWbte"
      },
      "source": [
        "train_df_copy = train_df.copy()\n",
        "test_df_copy = test_df.copy()"
      ],
      "execution_count": null,
      "outputs": []
    },
    {
      "cell_type": "code",
      "metadata": {
        "id": "Pn76bwD-WWo-"
      },
      "source": [
        "train_df_copy['stayed_in_shelter'] = train_df_copy['listing_date']-train_df_copy['issue_date']\n",
        "test_df_copy['stayed_in_shelter'] = test_df_copy['listing_date']-test_df_copy['issue_date']"
      ],
      "execution_count": null,
      "outputs": []
    },
    {
      "cell_type": "code",
      "metadata": {
        "id": "z-0Mpsm5mT-K"
      },
      "source": [
        "train_df_copy_1 = train_df_copy.copy()\n",
        "test_df_copy_1 = test_df_copy.copy()\n",
        "train_df_copy_2 = train_df_copy.copy()\n",
        "test_df_copy_2 = test_df_copy.copy()"
      ],
      "execution_count": null,
      "outputs": []
    },
    {
      "cell_type": "code",
      "metadata": {
        "id": "OYsuUh4_lr6Q"
      },
      "source": [
        "train_df_copy_1['size'] = (train_df_copy_1['length(m)']**2)*train_df_copy_1['height(cm)']/100\n",
        "test_df_copy_1['size'] = (test_df_copy_1['length(m)']**2)*test_df_copy_1['height(cm)']/100"
      ],
      "execution_count": null,
      "outputs": []
    },
    {
      "cell_type": "code",
      "metadata": {
        "id": "-_YErjgVHeUA"
      },
      "source": [
        "train_df_copy_2['size'] = (train_df_copy_2['length(m)'])*train_df_copy_2['height(cm)']/100\n",
        "test_df_copy_2['size'] = (test_df_copy_2['length(m)'])*test_df_copy_2['height(cm)']/100"
      ],
      "execution_count": null,
      "outputs": []
    },
    {
      "cell_type": "markdown",
      "metadata": {
        "id": "q1q5tDYcWw2d"
      },
      "source": [
        "## Dropping for a while"
      ]
    },
    {
      "cell_type": "code",
      "metadata": {
        "id": "P_2GhSDZmpC5"
      },
      "source": [
        "train_df_copy_1['stayed_in_shelter'] = train_df_copy_1['listing_date']-train_df_copy_1['issue_date']\n",
        "test_df_copy_1['stayed_in_shelter'] = test_df_copy_1['listing_date']-test_df_copy_1['issue_date']\n",
        "train_df_copy_2['stayed_in_shelter'] = train_df_copy_2['listing_date']-train_df_copy_2['issue_date']\n",
        "test_df_copy_2['stayed_in_shelter'] = test_df_copy_2['listing_date']-test_df_copy_2['issue_date']"
      ],
      "execution_count": null,
      "outputs": []
    },
    {
      "cell_type": "code",
      "metadata": {
        "id": "cVatmYINCIBq"
      },
      "source": [
        "Y1 = train_df_copy_1['breed_category']\n",
        "Y2 = train_df_copy_1['pet_category']\n",
        "X_train = train_df_copy_1.drop(columns=['breed_category','pet_category'])\n",
        "X_test = test_df_copy_1"
      ],
      "execution_count": null,
      "outputs": []
    },
    {
      "cell_type": "markdown",
      "metadata": {
        "id": "pDhy4PL3ZtCW"
      },
      "source": [
        "# Arranging Data as features and labels"
      ]
    },
    {
      "cell_type": "code",
      "metadata": {
        "id": "xHvCyPvZI2Sd"
      },
      "source": [
        "Y1 = train_df_copy_1['breed_category']\n",
        "Y2 = train_df_copy_1['pet_category']\n",
        "X_train_1 = train_df_copy_1.drop(columns=['breed_category','pet_category'])\n",
        "X_test_1 = test_df_copy_1\n",
        "X_train_2 = train_df_copy_2.drop(columns=['breed_category','pet_category'])\n",
        "X_test_2 = test_df_copy_2"
      ],
      "execution_count": null,
      "outputs": []
    },
    {
      "cell_type": "markdown",
      "metadata": {
        "id": "5CG1fTVrr_FH"
      },
      "source": [
        "# Experimentation:"
      ]
    },
    {
      "cell_type": "code",
      "metadata": {
        "id": "8jtjyk_4x4Vp"
      },
      "source": [
        "from sklearn.model_selection import cross_val_score\n",
        "from sklearn.ensemble import RandomForestClassifier"
      ],
      "execution_count": null,
      "outputs": []
    },
    {
      "cell_type": "code",
      "metadata": {
        "id": "AmaaaB09NH19"
      },
      "source": [
        "model = RandomForestClassifier()\n",
        "print(cross_val_score(model,imputed_X_train_1,Y1,cv=5))\n",
        "print(cross_val_score(model,imputed_X_train_2,Y1,cv=5))\n",
        "print(cross_val_score(model,imputed_X_train_1,Y2,cv=5))\n",
        "print(cross_val_score(model,imputed_X_train_2,Y2,cv=5))"
      ],
      "execution_count": null,
      "outputs": []
    },
    {
      "cell_type": "code",
      "metadata": {
        "id": "gVKLrCzfcrmp",
        "colab": {
          "base_uri": "https://localhost:8080/",
          "height": 85
        },
        "outputId": "5fa5e997-2ed2-49b5-a457-f0508c4d0c86"
      },
      "source": [
        "from xgboost import XGBClassifier\n",
        "\n",
        "model = XGBClassifier()\n",
        "#print(size = )\n",
        "print(cross_val_score(model,X_train_1,Y1,cv=5))\n",
        "print(cross_val_score(model,X_train_2,Y1,cv=5))\n",
        "print(cross_val_score(model,X_train_1,Y2,cv=5))\n",
        "print(cross_val_score(model,X_train_2,Y2,cv=5))"
      ],
      "execution_count": null,
      "outputs": [
        {
          "output_type": "stream",
          "text": [
            "[0.89779666 0.90814972 0.90735333 0.90363685 0.89697292]\n",
            "[0.89726573 0.90496416 0.90921157 0.90257499 0.89537971]\n",
            "[0.88638174 0.89195646 0.89009822 0.88717813 0.88555497]\n",
            "[0.88823998 0.89328378 0.89116007 0.88558535 0.88528943]\n"
          ],
          "name": "stdout"
        }
      ]
    },
    {
      "cell_type": "code",
      "metadata": {
        "id": "tjXZkyCIdn6I",
        "colab": {
          "base_uri": "https://localhost:8080/",
          "height": 85
        },
        "outputId": "6ec67681-35c0-40d6-d755-d6a2a93ee1e6"
      },
      "source": [
        "import lightgbm as lgb\n",
        "\n",
        "model = lgb.LGBMClassifier()\n",
        "print(cross_val_score(model,X_train_1,Y1,cv=5))\n",
        "print(cross_val_score(model,X_train_2,Y1,cv=5))\n",
        "print(cross_val_score(model,X_train_1,Y2,cv=5))\n",
        "print(cross_val_score(model,X_train_2,Y2,cv=5))"
      ],
      "execution_count": null,
      "outputs": [
        {
          "output_type": "stream",
          "text": [
            "[0.89328378 0.90416777 0.90496416 0.9126626  0.89591078]\n",
            "[0.89726573 0.90522963 0.90284046 0.90761879 0.89325544]\n",
            "[0.90655694 0.91000796 0.90841518 0.90549509 0.90387679]\n",
            "[0.90363685 0.90735333 0.90841518 0.90708787 0.90308019]\n"
          ],
          "name": "stdout"
        }
      ]
    },
    {
      "cell_type": "markdown",
      "metadata": {
        "id": "7RD2vkMjLCH5"
      },
      "source": [
        "# Not Worth using an imputer explicitely"
      ]
    },
    {
      "cell_type": "code",
      "metadata": {
        "id": "Ep1cgNf5vCpZ"
      },
      "source": [
        "from sklearn.impute import KNNImputer\n",
        "imputed_X_train_1 = X_train_1\n",
        "imputed_X_test_1 = X_test_1\n",
        "imputed_X_train_2 = X_train_2\n",
        "imputed_X_test_2 = X_test_2\n",
        "imputer = KNNImputer()\n",
        "imputed_X_train_1['condition'] = pd.DataFrame(imputer.fit_transform(pd.DataFrame(X_train_1['condition'])))\n",
        "imputed_X_test_1['condition'] = pd.DataFrame(imputer.transform(pd.DataFrame(X_test_1['condition'])))\n",
        "imputed_X_train_2['condition'] = pd.DataFrame(imputer.fit_transform(pd.DataFrame(X_train_2['condition'])))\n",
        "imputed_X_test_2['condition'] = pd.DataFrame(imputer.transform(pd.DataFrame(X_test_2['condition'])))\n",
        "imputed_X_train_1.columns = X_train_1.columns\n",
        "imputed_X_test_1.columns = X_test_1.columns\n",
        "imputed_X_train_2.columns = X_train_2.columns\n",
        "imputed_X_test_2.columns = X_test_2.columns"
      ],
      "execution_count": null,
      "outputs": []
    },
    {
      "cell_type": "code",
      "metadata": {
        "id": "XGM7qH0qyVZ6"
      },
      "source": [
        "imputed_X_train_1['condition'] = imputed_X_train_1['condition'].astype('int')\n",
        "imputed_X_test_1['condition'] = imputed_X_test_1['condition'].astype('int')\n",
        "imputed_X_train_2['condition'] = imputed_X_train_2['condition'].astype('int')\n",
        "imputed_X_test_2['condition'] = imputed_X_test_2['condition'].astype('int')"
      ],
      "execution_count": null,
      "outputs": []
    },
    {
      "cell_type": "code",
      "metadata": {
        "id": "8Tt4rVg6LbZm",
        "colab": {
          "base_uri": "https://localhost:8080/",
          "height": 323
        },
        "outputId": "5d60a40c-d608-4a5f-feb4-fbc18c1b4573"
      },
      "source": [
        "X_train_1.info()"
      ],
      "execution_count": null,
      "outputs": [
        {
          "output_type": "stream",
          "text": [
            "<class 'pandas.core.frame.DataFrame'>\n",
            "RangeIndex: 18834 entries, 0 to 18833\n",
            "Data columns (total 11 columns):\n",
            " #   Column             Non-Null Count  Dtype  \n",
            "---  ------             --------------  -----  \n",
            " 0   pet_id             18834 non-null  int64  \n",
            " 1   issue_date         18834 non-null  int64  \n",
            " 2   listing_date       18834 non-null  int64  \n",
            " 3   condition          18834 non-null  int64  \n",
            " 4   color_type         18834 non-null  int64  \n",
            " 5   length(m)          18834 non-null  float64\n",
            " 6   height(cm)         18834 non-null  float64\n",
            " 7   X1                 18834 non-null  int64  \n",
            " 8   X2                 18834 non-null  int64  \n",
            " 9   size               18834 non-null  float64\n",
            " 10  stayed_in_shelter  18834 non-null  int64  \n",
            "dtypes: float64(3), int64(8)\n",
            "memory usage: 1.6 MB\n"
          ],
          "name": "stdout"
        }
      ]
    },
    {
      "cell_type": "code",
      "metadata": {
        "id": "m2WATaOmyVdF",
        "colab": {
          "base_uri": "https://localhost:8080/",
          "height": 85
        },
        "outputId": "1f8e59d0-b30a-41e8-d490-4de652de986f"
      },
      "source": [
        "from sklearn.ensemble import RandomForestClassifier\n",
        "#lasso = linear_model.Lasso()\n",
        "model = RandomForestClassifier()\n",
        "print(cross_val_score(model,X_train_1,Y1,cv=5))\n",
        "print(cross_val_score(model,X_train_2,Y1,cv=5))\n",
        "print(cross_val_score(model,X_train_1,Y2,cv=5))\n",
        "print(cross_val_score(model,X_train_2,Y2,cv=5))"
      ],
      "execution_count": null,
      "outputs": [
        {
          "output_type": "stream",
          "text": [
            "[0.88266525 0.89089461 0.89514202 0.89036368 0.88050982]\n",
            "[0.88478896 0.89354924 0.89328378 0.89248739 0.88077536]\n",
            "[0.87709052 0.88346164 0.88346164 0.87523228 0.87918216]\n",
            "[0.88027608 0.88505442 0.88027608 0.86886116 0.87307488]\n"
          ],
          "name": "stdout"
        }
      ]
    },
    {
      "cell_type": "code",
      "metadata": {
        "id": "eFoqffY0yVXa",
        "colab": {
          "base_uri": "https://localhost:8080/",
          "height": 85
        },
        "outputId": "996586af-c269-4f13-ac4b-35c9c167959c"
      },
      "source": [
        "from xgboost import XGBClassifier\n",
        "\n",
        "model = XGBClassifier()\n",
        "print(cross_val_score(model,X_train_1,Y1,cv=5))\n",
        "print(cross_val_score(model,X_train_2,Y1,cv=5))\n",
        "print(cross_val_score(model,X_train_1,Y2,cv=5))\n",
        "print(cross_val_score(model,X_train_2,Y2,cv=5))"
      ],
      "execution_count": null,
      "outputs": [
        {
          "output_type": "stream",
          "text": [
            "[0.88823998 0.8996549  0.89885851 0.88585081 0.88183749]\n",
            "[0.88823998 0.89885851 0.89540749 0.88744359 0.88183749]\n",
            "[0.88531988 0.88877091 0.8866472  0.88186886 0.87997876]\n",
            "[0.88531988 0.88850544 0.88611627 0.88266525 0.88024429]\n"
          ],
          "name": "stdout"
        }
      ]
    },
    {
      "cell_type": "code",
      "metadata": {
        "id": "8aPjUh8KNOTv",
        "colab": {
          "base_uri": "https://localhost:8080/",
          "height": 85
        },
        "outputId": "b03c23b6-1851-4240-a0e4-fc962262aabc"
      },
      "source": [
        "import lightgbm as lgb\n",
        "\n",
        "model = lgb.LGBMClassifier()\n",
        "print(cross_val_score(model,X_train_1,Y1,cv=5))\n",
        "print(cross_val_score(model,X_train_2,Y1,cv=5))\n",
        "print(cross_val_score(model,X_train_1,Y2,cv=5))\n",
        "print(cross_val_score(model,X_train_2,Y2,cv=5))"
      ],
      "execution_count": null,
      "outputs": [
        {
          "output_type": "stream",
          "text": [
            "[0.88054154 0.89567295 0.89248739 0.89354924 0.87944769]\n",
            "[0.88930183 0.89116007 0.89354924 0.89726573 0.88130643]\n",
            "[0.89726573 0.90629148 0.90655694 0.90018582 0.89962825]\n",
            "[0.90124768 0.90708787 0.90708787 0.90098221 0.89936272]\n"
          ],
          "name": "stdout"
        }
      ]
    },
    {
      "cell_type": "markdown",
      "metadata": {
        "id": "f1x32uHWQFcg"
      },
      "source": [
        "# Final_preds"
      ]
    },
    {
      "cell_type": "code",
      "metadata": {
        "id": "TkiGpE6MUJ7N"
      },
      "source": [
        "model1 = XGBClassifier()\n",
        "model1.fit(X_train,Y1)\n",
        "preds_1 = model1.predict(X_test)"
      ],
      "execution_count": null,
      "outputs": []
    },
    {
      "cell_type": "code",
      "metadata": {
        "id": "GZHIzZW6VIT9"
      },
      "source": [
        "import lightgbm as lgb\n",
        "model2 = lgb.LGBMClassifier()\n",
        "model2.fit(X_train,Y2)\n",
        "preds_2 = model2.predict(X_test)"
      ],
      "execution_count": null,
      "outputs": []
    },
    {
      "cell_type": "code",
      "metadata": {
        "id": "6OiAoLSsWQwK"
      },
      "source": [
        "test_submit = pd.read_csv('/content/drive/My Drive/HackerEarth Machine Learning Pet Adoption/Dataset/test.csv')\n",
        "test_pet_ids = pd.DataFrame(test_submit['pet_id'])"
      ],
      "execution_count": null,
      "outputs": []
    },
    {
      "cell_type": "code",
      "metadata": {
        "id": "4-ZP8V-mVZdx"
      },
      "source": [
        "test_pet_ids['breed_category'] = preds_1\n",
        "test_pet_ids['pet_category'] = preds_2"
      ],
      "execution_count": null,
      "outputs": []
    },
    {
      "cell_type": "code",
      "metadata": {
        "id": "2GLHGWu3W93e",
        "colab": {
          "base_uri": "https://localhost:8080/",
          "height": 204
        },
        "outputId": "0e6348a2-1b4c-4b80-fe54-fe30f1729000"
      },
      "source": [
        "test_pet_ids.head()"
      ],
      "execution_count": null,
      "outputs": [
        {
          "output_type": "execute_result",
          "data": {
            "text/html": [
              "<div>\n",
              "<style scoped>\n",
              "    .dataframe tbody tr th:only-of-type {\n",
              "        vertical-align: middle;\n",
              "    }\n",
              "\n",
              "    .dataframe tbody tr th {\n",
              "        vertical-align: top;\n",
              "    }\n",
              "\n",
              "    .dataframe thead th {\n",
              "        text-align: right;\n",
              "    }\n",
              "</style>\n",
              "<table border=\"1\" class=\"dataframe\">\n",
              "  <thead>\n",
              "    <tr style=\"text-align: right;\">\n",
              "      <th></th>\n",
              "      <th>pet_id</th>\n",
              "      <th>breed_category</th>\n",
              "      <th>pet_category</th>\n",
              "    </tr>\n",
              "  </thead>\n",
              "  <tbody>\n",
              "    <tr>\n",
              "      <th>0</th>\n",
              "      <td>ANSL_75005</td>\n",
              "      <td>1</td>\n",
              "      <td>2</td>\n",
              "    </tr>\n",
              "    <tr>\n",
              "      <th>1</th>\n",
              "      <td>ANSL_76663</td>\n",
              "      <td>0</td>\n",
              "      <td>1</td>\n",
              "    </tr>\n",
              "    <tr>\n",
              "      <th>2</th>\n",
              "      <td>ANSL_58259</td>\n",
              "      <td>0</td>\n",
              "      <td>2</td>\n",
              "    </tr>\n",
              "    <tr>\n",
              "      <th>3</th>\n",
              "      <td>ANSL_67171</td>\n",
              "      <td>0</td>\n",
              "      <td>2</td>\n",
              "    </tr>\n",
              "    <tr>\n",
              "      <th>4</th>\n",
              "      <td>ANSL_72871</td>\n",
              "      <td>0</td>\n",
              "      <td>2</td>\n",
              "    </tr>\n",
              "  </tbody>\n",
              "</table>\n",
              "</div>"
            ],
            "text/plain": [
              "       pet_id  breed_category  pet_category\n",
              "0  ANSL_75005               1             2\n",
              "1  ANSL_76663               0             1\n",
              "2  ANSL_58259               0             2\n",
              "3  ANSL_67171               0             2\n",
              "4  ANSL_72871               0             2"
            ]
          },
          "metadata": {
            "tags": []
          },
          "execution_count": 82
        }
      ]
    },
    {
      "cell_type": "code",
      "metadata": {
        "id": "i84_ml8CXBqv"
      },
      "source": [
        "test_pet_ids.to_csv(\"pred_5_xgb_lgb.csv\",index=False)"
      ],
      "execution_count": null,
      "outputs": []
    },
    {
      "cell_type": "code",
      "metadata": {
        "id": "d3Qr1iJOoqMH"
      },
      "source": [
        "#Data_Viz\n"
      ],
      "execution_count": null,
      "outputs": []
    }
  ]
}